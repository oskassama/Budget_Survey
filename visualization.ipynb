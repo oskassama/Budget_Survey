{
 "cells": [
  {
   "cell_type": "code",
   "execution_count": 1,
   "metadata": {},
   "outputs": [
    {
     "name": "stdout",
     "output_type": "stream",
     "text": [
      "Top 3 Earners:\n",
      "   Age  Gender   Income  Utilities  Utilities.1  Entertainment  School Fees  \\\n",
      "4   60    Male  10000.0      400.0        400.0            0.0       1500.0   \n",
      "6   48  Female   8500.0      967.0       1392.0          850.0       3000.0   \n",
      "5   55  Female   8500.0      800.0       1100.0         1200.0       2000.0   \n",
      "\n",
      "   Shopping  Healthcare  \n",
      "4    2000.0         NaN  \n",
      "6    1050.0         NaN  \n",
      "5    1500.0         NaN  \n"
     ]
    }
   ],
   "source": [
    "# Source : https://pandas.pydata.org/docs/\n",
    "# Source : https://pandas.pydata.org/docs/reference/frame.html\n",
    "import pandas as pd\n",
    "\n",
    "# Source : https://pandas.pydata.org/docs/reference/api/pandas.read_csv.html\n",
    "df = pd.read_csv(\"user_data.csv\")\n",
    "\n",
    "# Source : https://pandas.pydata.org/docs/reference/api/pandas.DataFrame.sort_values.html\n",
    "# Source :https://pandas.pydata.org/docs/reference/api/pandas.DataFrame.head.html\n",
    "print(\"Top 3 Earners:\")\n",
    "print(df.sort_values(\"Income\", ascending=False).head(3))"
   ]
  }
 ],
 "metadata": {
  "kernelspec": {
   "display_name": "Python 3",
   "language": "python",
   "name": "python3"
  },
  "language_info": {
   "codemirror_mode": {
    "name": "ipython",
    "version": 3
   },
   "file_extension": ".py",
   "mimetype": "text/x-python",
   "name": "python",
   "nbconvert_exporter": "python",
   "pygments_lexer": "ipython3",
   "version": "3.10.11"
  }
 },
 "nbformat": 4,
 "nbformat_minor": 2
}
